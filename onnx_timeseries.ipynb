{
  "cells": [
    {
      "cell_type": "markdown",
      "metadata": {
        "id": "view-in-github",
        "colab_type": "text"
      },
      "source": [
        "<a href=\"https://colab.research.google.com/github/MegaJoctan/ONNX-MQL5/blob/main/onnx_timeseries.ipynb\" target=\"_parent\"><img src=\"https://colab.research.google.com/assets/colab-badge.svg\" alt=\"Open In Colab\"/></a>"
      ]
    },
    {
      "cell_type": "markdown",
      "metadata": {
        "id": "UZWVStPukQ_S"
      },
      "source": [
        "### Basic Imports"
      ]
    },
    {
      "cell_type": "code",
      "execution_count": null,
      "metadata": {
        "id": "50VwV5FJkH5w"
      },
      "outputs": [],
      "source": [
        "import pandas as pd\n",
        "import numpy as np\n",
        "import os"
      ]
    },
    {
      "cell_type": "markdown",
      "metadata": {
        "id": "M3uRYS2Vmy99"
      },
      "source": [
        "### Global Parameters"
      ]
    },
    {
      "cell_type": "code",
      "execution_count": null,
      "metadata": {
        "id": "zqRO9RInmbEJ"
      },
      "outputs": [],
      "source": [
        "csv_file = \"EURUSD-OHLSignalPCA.csv\"\n",
        "step_size = 7\n",
        "inp_model_name = \"model.eurusd.D1.PCA.onnx\""
      ]
    },
    {
      "cell_type": "markdown",
      "metadata": {
        "id": "wFSA1uT9m6Vw"
      },
      "source": [
        "### Prepare Sequential data\n"
      ]
    },
    {
      "cell_type": "code",
      "execution_count": null,
      "metadata": {
        "id": "8f_bAiEym5uU"
      },
      "outputs": [],
      "source": [
        "def get_sequential_data(data, time_step):\n",
        "    if dataset.empty is True:\n",
        "      print(\"Failed to create sequences from an empty dataset\")\n",
        "      return\n",
        "\n",
        "    Y = data.iloc[:, -1].to_numpy() # get the last column from the dataset and assign it to y numpy 1D array\n",
        "    X = data.iloc[:, :-1].to_numpy() # Get all the columns from data array except the last column, assign them to x numpy 2D array\n",
        "\n",
        "    X_reshaped = []\n",
        "    Y_reshaped = []\n",
        "\n",
        "    for i in range(len(Y) - time_step + 1):\n",
        "        X_reshaped.append(X[i:i + time_step])\n",
        "        Y_reshaped.append(Y[i + time_step - 1])\n",
        "\n",
        "    return np.array(X_reshaped), np.array(Y_reshaped)"
      ]
    },
    {
      "cell_type": "code",
      "execution_count": null,
      "metadata": {
        "id": "rK3W1hD5ntpB",
        "colab": {
          "base_uri": "https://localhost:8080/"
        },
        "outputId": "3625fb0f-09bd-4cbe-e63b-4ebcb280d337"
      },
      "outputs": [
        {
          "output_type": "stream",
          "name": "stdout",
          "text": [
            "Requirement already satisfied: tf2onnx in /usr/local/lib/python3.10/dist-packages (1.16.1)\n",
            "Requirement already satisfied: numpy>=1.14.1 in /usr/local/lib/python3.10/dist-packages (from tf2onnx) (1.25.2)\n",
            "Requirement already satisfied: onnx>=1.4.1 in /usr/local/lib/python3.10/dist-packages (from tf2onnx) (1.16.0)\n",
            "Requirement already satisfied: requests in /usr/local/lib/python3.10/dist-packages (from tf2onnx) (2.31.0)\n",
            "Requirement already satisfied: six in /usr/local/lib/python3.10/dist-packages (from tf2onnx) (1.16.0)\n",
            "Requirement already satisfied: flatbuffers>=1.12 in /usr/local/lib/python3.10/dist-packages (from tf2onnx) (24.3.25)\n",
            "Requirement already satisfied: protobuf~=3.20 in /usr/local/lib/python3.10/dist-packages (from tf2onnx) (3.20.3)\n",
            "Requirement already satisfied: charset-normalizer<4,>=2 in /usr/local/lib/python3.10/dist-packages (from requests->tf2onnx) (3.3.2)\n",
            "Requirement already satisfied: idna<4,>=2.5 in /usr/local/lib/python3.10/dist-packages (from requests->tf2onnx) (3.6)\n",
            "Requirement already satisfied: urllib3<3,>=1.21.1 in /usr/local/lib/python3.10/dist-packages (from requests->tf2onnx) (2.0.7)\n",
            "Requirement already satisfied: certifi>=2017.4.17 in /usr/local/lib/python3.10/dist-packages (from requests->tf2onnx) (2024.2.2)\n"
          ]
        }
      ],
      "source": [
        "!pip install tf2onnx"
      ]
    },
    {
      "cell_type": "markdown",
      "metadata": {
        "id": "QkKMf3ojna5d"
      },
      "source": [
        "### Necessary imports for timeseries models\n"
      ]
    },
    {
      "cell_type": "code",
      "execution_count": null,
      "metadata": {
        "id": "LwDYHY-8nXtJ"
      },
      "outputs": [],
      "source": [
        "from sklearn.model_selection import train_test_split\n",
        "from keras.models import Sequential\n",
        "from keras.layers import Dense, Activation, Conv1D, MaxPooling1D, Dropout, Flatten, LSTM\n",
        "from keras.metrics import RootMeanSquaredError as rmse\n",
        "import tf2onnx"
      ]
    },
    {
      "cell_type": "markdown",
      "metadata": {
        "id": "sQwbRjO7oeAP"
      },
      "source": [
        "### Get the data and extract target column classes"
      ]
    },
    {
      "cell_type": "code",
      "execution_count": null,
      "metadata": {
        "id": "mQ8P4f4CoPHt",
        "colab": {
          "base_uri": "https://localhost:8080/"
        },
        "outputId": "d3a4dc35-83ae-4c70-b81f-3d0e74f69460"
      },
      "outputs": [
        {
          "output_type": "stream",
          "name": "stdout",
          "text": [
            "OHLC DATASET\n",
            "        None    None.1  None.2\n",
            "0  0.780465 -0.503271     0.0\n",
            "1  0.721395  0.799352     0.0\n",
            "2  0.689822 -0.849680     1.0\n",
            "3  0.705495 -0.781124     1.0\n",
            "4  0.716198 -0.535190     1.0 \n",
            "Classes [0. 1.]\n"
          ]
        }
      ],
      "source": [
        "dataset = pd.read_csv(csv_file)\n",
        "\n",
        "y = []\n",
        "if not dataset.empty:\n",
        "   y = dataset.iloc[:, -1].to_numpy()\n",
        "\n",
        "classes_in_data = np.unique(y)\n",
        "\n",
        "print(\"OHLC DATASET\\n\",dataset.head(),\"\\nClasses\",classes_in_data)"
      ]
    },
    {
      "cell_type": "markdown",
      "metadata": {
        "id": "uwYKVPsNnqM6"
      },
      "source": [
        "### Define LSTM model"
      ]
    },
    {
      "cell_type": "code",
      "execution_count": null,
      "metadata": {
        "id": "pUnZqMHono86"
      },
      "outputs": [],
      "source": [
        "from keras.optimizers import Adam\n",
        "from keras.callbacks import EarlyStopping\n",
        "\n",
        "learning_rate = 1e-3\n",
        "patience = 5 #if this number of epochs validation loss is unchanged stop the process\n",
        "\n",
        "\n",
        "model = Sequential()\n",
        "\n",
        "model.add(LSTM(units=10, input_shape=(step_size, dataset.shape[1]-1))) #Input layer\n",
        "model.add(Dense(units=10, activation='relu', kernel_initializer='he_uniform'))\n",
        "model.add(Dropout(0.3))\n",
        "model.add(Dense(units=len(classes_in_data), activation = 'softmax')) #last layer outputs = classes in data\n",
        "\n",
        "model.compile(optimizer=Adam(learning_rate=learning_rate), loss=\"binary_crossentropy\", metrics=['accuracy'])"
      ]
    },
    {
      "cell_type": "markdown",
      "metadata": {
        "id": "WNwLHYe9KSIA"
      },
      "source": [
        "### Model Summary"
      ]
    },
    {
      "cell_type": "code",
      "execution_count": null,
      "metadata": {
        "id": "hxmhMADvKUre",
        "colab": {
          "base_uri": "https://localhost:8080/"
        },
        "outputId": "99007c6c-e63f-49f8-dce8-726b0a666d87"
      },
      "outputs": [
        {
          "output_type": "stream",
          "name": "stdout",
          "text": [
            "Model: \"sequential_3\"\n",
            "_________________________________________________________________\n",
            " Layer (type)                Output Shape              Param #   \n",
            "=================================================================\n",
            " lstm_3 (LSTM)               (None, 10)                520       \n",
            "                                                                 \n",
            " dense_6 (Dense)             (None, 10)                110       \n",
            "                                                                 \n",
            " dropout_3 (Dropout)         (None, 10)                0         \n",
            "                                                                 \n",
            " dense_7 (Dense)             (None, 2)                 22        \n",
            "                                                                 \n",
            "=================================================================\n",
            "Total params: 652 (2.55 KB)\n",
            "Trainable params: 652 (2.55 KB)\n",
            "Non-trainable params: 0 (0.00 Byte)\n",
            "_________________________________________________________________\n"
          ]
        }
      ],
      "source": [
        "model.summary()"
      ]
    },
    {
      "cell_type": "markdown",
      "metadata": {
        "id": "mbRYKI6HpnNe"
      },
      "source": [
        "### Getting sequential data & Train-test split"
      ]
    },
    {
      "cell_type": "code",
      "execution_count": null,
      "metadata": {
        "id": "_d_l8bMwpHbq",
        "colab": {
          "base_uri": "https://localhost:8080/"
        },
        "outputId": "8483125d-3627-4399-82ca-e610ecbc292a"
      },
      "outputs": [
        {
          "output_type": "stream",
          "name": "stdout",
          "text": [
            "x_train(6995, 7, 2) y_train(6995,)\n",
            "x_test(2999, 7, 2) y_test(2999,)\n"
          ]
        }
      ],
      "source": [
        "X_reshaped, Y_reshaped = get_sequential_data(dataset, step_size)\n",
        "\n",
        "x_train, x_test, y_train, y_test = train_test_split(X_reshaped, Y_reshaped, test_size=0.3, random_state=42)  # Example with a random_state\n",
        "\n",
        "print(f\"x_train{x_train.shape} y_train{y_train.shape}\\nx_test{x_test.shape} y_test{y_test.shape}\")"
      ]
    },
    {
      "cell_type": "markdown",
      "metadata": {
        "id": "o4xHo9YZp2Ma"
      },
      "source": [
        "### Train the model for 100 epochs"
      ]
    },
    {
      "cell_type": "code",
      "execution_count": null,
      "metadata": {
        "colab": {
          "base_uri": "https://localhost:8080/"
        },
        "id": "NWW0ye1XptNU",
        "outputId": "bab2826a-1f88-4706-a204-1c1e0aff4251"
      },
      "outputs": [
        {
          "output_type": "stream",
          "name": "stdout",
          "text": [
            "Epoch 1/100\n",
            "110/110 - 3s - loss: 0.6940 - accuracy: 0.5131 - val_loss: 0.6926 - val_accuracy: 0.5135 - 3s/epoch - 30ms/step\n",
            "Epoch 2/100\n",
            "110/110 - 1s - loss: 0.6933 - accuracy: 0.5108 - val_loss: 0.6926 - val_accuracy: 0.5045 - 542ms/epoch - 5ms/step\n",
            "Epoch 3/100\n",
            "110/110 - 1s - loss: 0.6927 - accuracy: 0.5194 - val_loss: 0.6927 - val_accuracy: 0.5105 - 621ms/epoch - 6ms/step\n",
            "Epoch 4/100\n",
            "110/110 - 1s - loss: 0.6930 - accuracy: 0.5134 - val_loss: 0.6925 - val_accuracy: 0.5048 - 615ms/epoch - 6ms/step\n",
            "Epoch 5/100\n",
            "110/110 - 1s - loss: 0.6929 - accuracy: 0.5071 - val_loss: 0.6925 - val_accuracy: 0.5038 - 622ms/epoch - 6ms/step\n",
            "Epoch 6/100\n",
            "110/110 - 1s - loss: 0.6927 - accuracy: 0.5107 - val_loss: 0.6925 - val_accuracy: 0.5038 - 590ms/epoch - 5ms/step\n",
            "Epoch 7/100\n",
            "110/110 - 1s - loss: 0.6927 - accuracy: 0.5128 - val_loss: 0.6925 - val_accuracy: 0.5062 - 627ms/epoch - 6ms/step\n",
            "Epoch 8/100\n",
            "110/110 - 1s - loss: 0.6924 - accuracy: 0.5155 - val_loss: 0.6922 - val_accuracy: 0.5118 - 627ms/epoch - 6ms/step\n",
            "Epoch 9/100\n",
            "110/110 - 1s - loss: 0.6922 - accuracy: 0.5214 - val_loss: 0.6922 - val_accuracy: 0.5198 - 560ms/epoch - 5ms/step\n",
            "Epoch 10/100\n",
            "110/110 - 1s - loss: 0.6923 - accuracy: 0.5129 - val_loss: 0.6925 - val_accuracy: 0.5132 - 664ms/epoch - 6ms/step\n",
            "Epoch 11/100\n",
            "110/110 - 1s - loss: 0.6924 - accuracy: 0.5162 - val_loss: 0.6923 - val_accuracy: 0.5122 - 825ms/epoch - 8ms/step\n",
            "Epoch 12/100\n",
            "110/110 - 1s - loss: 0.6922 - accuracy: 0.5167 - val_loss: 0.6920 - val_accuracy: 0.5158 - 833ms/epoch - 8ms/step\n",
            "Epoch 13/100\n",
            "110/110 - 1s - loss: 0.6923 - accuracy: 0.5142 - val_loss: 0.6922 - val_accuracy: 0.5132 - 724ms/epoch - 7ms/step\n",
            "Epoch 14/100\n",
            "110/110 - 1s - loss: 0.6920 - accuracy: 0.5215 - val_loss: 0.6921 - val_accuracy: 0.5168 - 658ms/epoch - 6ms/step\n",
            "Epoch 15/100\n",
            "110/110 - 1s - loss: 0.6918 - accuracy: 0.5197 - val_loss: 0.6921 - val_accuracy: 0.5175 - 656ms/epoch - 6ms/step\n",
            "Epoch 16/100\n",
            "110/110 - 1s - loss: 0.6919 - accuracy: 0.5167 - val_loss: 0.6921 - val_accuracy: 0.5178 - 627ms/epoch - 6ms/step\n",
            "Epoch 17/100\n",
            "110/110 - 1s - loss: 0.6919 - accuracy: 0.5248 - val_loss: 0.6920 - val_accuracy: 0.5222 - 596ms/epoch - 5ms/step\n"
          ]
        }
      ],
      "source": [
        "from keras.utils import to_categorical\n",
        "\n",
        "y_train = to_categorical(y_train, num_classes=len(classes_in_data)) #ONE-HOT encoding\n",
        "y_test = to_categorical(y_test, num_classes=len(classes_in_data)) #ONE-HOT encoding\n",
        "\n",
        "early_stopping = EarlyStopping(monitor='val_loss', patience = patience, restore_best_weights=True)\n",
        "\n",
        "history = model.fit(x_train, y_train, epochs = 100 , validation_data = (x_test,y_test), callbacks=[early_stopping], batch_size=64, verbose=2)"
      ]
    },
    {
      "cell_type": "markdown",
      "metadata": {
        "id": "EYkWJ1ceLyy_"
      },
      "source": [
        "### Show iteration-loss graph for training and validation"
      ]
    },
    {
      "cell_type": "code",
      "execution_count": null,
      "metadata": {
        "colab": {
          "base_uri": "https://localhost:8080/",
          "height": 658
        },
        "id": "uLrwhGQZp7v4",
        "outputId": "17be5cea-ebce-444a-9855-9040f2d0eaef"
      },
      "outputs": [
        {
          "output_type": "execute_result",
          "data": {
            "text/plain": [
              "<matplotlib.legend.Legend at 0x7e527988b580>"
            ]
          },
          "metadata": {},
          "execution_count": 53
        },
        {
          "output_type": "display_data",
          "data": {
            "text/plain": [
              "<Figure size 800x700 with 1 Axes>"
            ],
            "image/png": "[encoded data removed]"
          },
          "metadata": {}
        }
      ],
      "source": [
        "import matplotlib.pyplot as plt\n",
        "\n",
        "plt.figure(figsize = (8,7))\n",
        "plt.plot(history.history['loss'],label='Training Loss',color='b')\n",
        "plt.plot(history.history['val_loss'],label='Validation-loss',color='g')\n",
        "plt.xlabel(\"Iteration\")\n",
        "plt.ylabel(\"Loss\")\n",
        "plt.title(\"LOSS\")\n",
        "plt.legend()"
      ]
    },
    {
      "cell_type": "markdown",
      "source": [
        "### Saving LSTM model in ONNX format"
      ],
      "metadata": {
        "id": "aev5MOtZWnxh"
      }
    },
    {
      "cell_type": "code",
      "execution_count": null,
      "metadata": {
        "id": "Oad1He__NhAh",
        "colab": {
          "base_uri": "https://localhost:8080/"
        },
        "outputId": "74f25191-bd29-48f7-ef2c-819c468d6b40"
      },
      "outputs": [
        {
          "output_type": "stream",
          "name": "stdout",
          "text": [
            "saved model to model.eurusd.D1.PCA.onnx\n"
          ]
        }
      ],
      "source": [
        "output_path = inp_model_name\n",
        "onnx_model = tf2onnx.convert.from_keras(model, output_path=output_path)\n",
        "print(f\"saved model to {output_path}\")"
      ]
    },
    {
      "cell_type": "markdown",
      "source": [
        "### Let's test the model on the data it was trained on"
      ],
      "metadata": {
        "id": "2vFKUk0dhPEg"
      }
    },
    {
      "cell_type": "code",
      "source": [
        "X_reshaped, Y_reshaped = get_sequential_data(dataset, step_size)\n",
        "\n",
        "print(f\"x_shape{X_reshaped.shape} y_shape{Y_reshaped.shape}\")\n",
        "\n",
        "predictions = model.predict(X_reshaped)\n",
        "\n",
        "predictions = classes_in_data[np.argmax(predictions, axis=1)]  # Find class with highest probability  | converting predicted probabilities to classes\n",
        "\n",
        "print(\"predictions:\\n\",predictions)\n",
        "\n",
        "#for pred in predictions:\n",
        "# print(f\"[{pred}]\")\n",
        "\n",
        "from sklearn.metrics import accuracy_score\n",
        "\n",
        "print(\"LSTM model accuracy: \", accuracy_score(Y_reshaped, predictions))\n"
      ],
      "metadata": {
        "id": "zsIJszQtYeEG",
        "colab": {
          "base_uri": "https://localhost:8080/"
        },
        "outputId": "e68c18fd-3bf4-42fa-9d12-6fb54ba506c0"
      },
      "execution_count": null,
      "outputs": [
        {
          "output_type": "stream",
          "name": "stdout",
          "text": [
            "x_shape(9994, 7, 2) y_shape(9994,)\n",
            "313/313 [==============================] - 1s 2ms/step\n",
            "predictions:\n",
            " [0. 0. 0. ... 0. 0. 0.]\n",
            "LSTM model accuracy:  0.5240144086451871\n"
          ]
        }
      ]
    },
    {
      "cell_type": "code",
      "source": [],
      "metadata": {
        "id": "ahxJ4WeeafzB"
      },
      "execution_count": null,
      "outputs": []
    }
  ],
  "metadata": {
    "colab": {
      "provenance": [],
      "authorship_tag": "ABX9TyMGv++ySelWta6PKC2q44yc",
      "include_colab_link": true
    },
    "kernelspec": {
      "display_name": "Python 3",
      "name": "python3"
    },
    "language_info": {
      "name": "python"
    }
  },
  "nbformat": 4,
  "nbformat_minor": 0
}